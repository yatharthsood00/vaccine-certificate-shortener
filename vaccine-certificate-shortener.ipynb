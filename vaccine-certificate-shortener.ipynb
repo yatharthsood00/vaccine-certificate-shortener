{
 "cells": [
  {
   "cell_type": "code",
   "execution_count": 6,
   "id": "9fc6a702",
   "metadata": {},
   "outputs": [],
   "source": [
    "from pdfminer import high_level\n",
    "from PIL import Image\n",
    "import fitz\n",
    "import io\n",
    "from fpdf import FPDF\n",
    "from datetime import datetime"
   ]
  },
  {
   "cell_type": "code",
   "execution_count": 7,
   "id": "73618871",
   "metadata": {
    "scrolled": false
   },
   "outputs": [
    {
     "name": "stdout",
     "output_type": "stream",
     "text": [
      "{'name': 'Navya Ambardar', 'age': '23', 'sex': 'Female', 'verif': 'Aadhaar # XXXXXXXX2129', 'refID': '51712044174060', 'vax': 'COVISHIELD', 'dose1': datetime.datetime(2021, 7, 3, 0, 0), 'batch1': '4121Z082', 'dose2': datetime.datetime(2021, 10, 4, 0, 0), 'batch2': '4121Z129', 'uhid': ''}\n"
     ]
    }
   ],
   "source": [
    "#Acquiring holder information in text from PDF.\n",
    "path = r'C:\\Users\\Yatharth\\Documents\\VacCert-Project\\certs\\navya.pdf' #filepath: will change on deployment\n",
    "text = high_level.extract_text(path)\n",
    "#text is raw data from pdf, print text to view extraction\n",
    "#print(text)\n",
    "text = text.replace(\"\\n\\n\", \"%\")\n",
    "#print(text)\n",
    "ls = text.split(\"%\")\n",
    "#print(ls)\n",
    "sep = [\"Beneﬁciary\", \"Final\"]\n",
    "inx = 0\n",
    "for entry in ls:\n",
    "    if entry.split(' ',1)[0] == sep[0] or entry.split(' ',1)[0] == sep[1]:\n",
    "        break\n",
    "    inx = inx + 1\n",
    "ls = ls[1:]\n",
    "\n",
    "#print(inx)\n",
    "#print(ls)\n",
    "#ls is list with proper entries from PDF\n",
    "\n",
    "#dictionary for storing holder information, in order of how it is in ls\n",
    "info = [\"name\", \"age\", \"sex\", \"verif\", \"uhid\", \"refID\", \"vax\", \"dose1\", \"dose2\", \"batch1\", \"batch2\"]\n",
    "info_dict, date_batch = {}, {}\n",
    "\n",
    "#basic info (name,age,sex,verification), hopefully this is all in order\n",
    "for i in range(4):\n",
    "    info_dict[info[i]] = ls[i]\n",
    "\n",
    "#print(info_dict)\n",
    "\n",
    "#print(len(ls[]))\n",
    "#loop to sort uhid,refID,vax,dose1,dose2 (prototype: batch1,batch2)\n",
    "doses, batches = [], []\n",
    "bno = 1\n",
    "for lsen in ls:   \n",
    "    if len(lsen) > 2 and lsen[2] == '-' and \"uhid\" not in info_dict:\n",
    "        info_dict[\"uhid\"] = lsen\n",
    "    elif len(lsen) == 14 and lsen.isdigit() and \"refID\" not in info_dict:\n",
    "        info_dict[\"refID\"] = lsen\n",
    "    elif \"vax\" not in info_dict and (\"COVISHIELD\" in lsen or \"COVAXIN\" in lsen or \"SPUTNIK\" in lsen):\n",
    "        info_dict[\"vax\"] = lsen\n",
    "    elif len(lsen) > 3 and lsen[0:2].isdigit() and lsen[3].isalpha():\n",
    "        ix = lsen.find(\"(\")\n",
    "        date = lsen[:ix-1]\n",
    "        batch = lsen[ix+11:-1]\n",
    "        date = datetime.strptime(date, \"%d %b %Y\")\n",
    "        date_batch[bno] = [date, batch]\n",
    "        bno = bno + 1\n",
    "        \n",
    "doses = sorted(doses)\n",
    "if date_batch[1][0] > date_batch[2][0]:\n",
    "    info_dict[\"dose1\"] = date_batch[2][0]\n",
    "    info_dict[\"batch1\"] = date_batch[2][1]\n",
    "    info_dict[\"dose2\"] = date_batch[1][0]\n",
    "    info_dict[\"batch2\"] = date_batch[1][1]\n",
    "else:\n",
    "    info_dict[\"dose1\"] = date_batch[1][0]\n",
    "    info_dict[\"batch1\"] = date_batch[1][1]\n",
    "    info_dict[\"dose2\"] = date_batch[2][0]\n",
    "    info_dict[\"batch2\"] = date_batch[2][1]\n",
    "#print(date_batch)\n",
    "#zipped = zip(info[7:9],doses)\n",
    "\n",
    "#for doseno,dosedt in zipped:\n",
    "    #info_dict[doseno] = dosedt.strftime('%d %B %Y')\n",
    "\n",
    "#lastly, make dummies of all entries that were left blank\n",
    "for entry in info:\n",
    "    if entry not in info_dict:\n",
    "        info_dict[entry] = \"\"\n",
    "print(info_dict)\n",
    "\n",
    "#info_dict has all holder information as a dict"
   ]
  },
  {
   "cell_type": "code",
   "execution_count": 8,
   "id": "f0132ec8",
   "metadata": {},
   "outputs": [],
   "source": [
    "#Acquiring QR code from PDF. Please leave untouched, it works as expected.\n",
    "#Opening with fitz\n",
    "pdf_file = fitz.open(path)\n",
    "page = pdf_file[0] #only page in the pdf\n",
    "image_list = page.getImageList() \n",
    "xref = image_list[0][0]\n",
    "base_image = pdf_file.extractImage(xref)\n",
    "image_bytes = base_image[\"image\"]\n",
    "image_ext = base_image[\"ext\"]\n",
    "qr = Image.open(io.BytesIO(image_bytes))\n",
    "qr.save(open(f\"qr.{image_ext}\", \"wb\"))\n",
    "\n",
    "#the QR has to stay this way. Several problems on the way, but we have to accomodate, since FPDF is not perfect\n",
    "qr_link = r'C:\\Users\\Yatharth\\Documents\\VacCert-Project\\vaccine-certificate-shortener\\qr.png'"
   ]
  },
  {
   "cell_type": "code",
   "execution_count": 9,
   "id": "121261e5",
   "metadata": {},
   "outputs": [],
   "source": [
    "#Creating new certificate with PyFPDF\n",
    "def mob_1():\n",
    "    #everything about the pdf the function creates, here\n",
    "    hfw_img = r'C:\\Users\\Yatharth\\Documents\\VacCert-Project\\vaccine-certificate-shortener\\imgfiles\\mohfw.png'\n",
    "    ph_w = 281.25\n",
    "    ph_h = 500.25\n",
    "    ln_y = 274\n",
    "    ln_x1 = 21\n",
    "    ln_x2 = 260\n",
    "    pdf = FPDF('P','pt', (ph_w,ph_h))\n",
    "    pdf.add_page()\n",
    "    pdf.set_margins(left=0, top=0, right=0)\n",
    "    pdf.image(hfw_img,x=75,y=24.5,w=132,h=68,type=\"png\")\n",
    "    pdf.set_font('Arial', 'B', 11.2)\n",
    "    pdf.set_text_color(0,0,125)\n",
    "    pdf.cell(w=225,h=166,txt=\"COVID-19 Vaccine Certificate\",border=0,align='C',ln=1)\n",
    "    pdf.set_line_width(0.1)\n",
    "    pdf.line(ln_x1,ln_y,ln_x2,ln_y)\n",
    "    pdf.image(qr_link,x=49,y=302,w=184,h=184,type=\"png\")\n",
    "    pdf.set_font('Arial', size=7)\n",
    "    pdf.set_text_color(0,0,0) \n",
    "    pdf.ln(h=96)\n",
    "    pdf.cell(w=282,txt=\"https://verify.cowin.gov.in\",border=0,align='C',link=\"https://verify.cowin.gov.in\",ln=2)\n",
    "    #Now for any changes needed to the information dictionary. We return both objects in the end\n",
    "    #1. The doses will be formatted as per the design requires\n",
    "    mob_1_info = {key:info_dict[key] for key in [\"name\", \"age\", \"sex\", \"verif\", \"uhid\", \"refID\", \"vax\"]}\n",
    "    mob_1_info[\"dose-batch-1\"] = info_dict[\"dose1\"].strftime('%d %B %Y')+\" (\"+info_dict[\"batch1\"]+\")\"\n",
    "    mob_1_info[\"dose-batch-2\"] = info_dict[\"dose2\"].strftime('%d %B %Y')+\" (\"+info_dict[\"batch2\"]+\")\"\n",
    "    #Finally, the sequence to print these details, which also has to be design-specific\n",
    "    mob_1_seq = ['vax','name','age','sex','verif','uhid','refID','dose-batch-1','dose-batch-2']\n",
    "    #creating the actual pdf objec\n",
    "    pdf.set_font('Arial', 'B', size=9)\n",
    "    pdf.set_text_color(31,73,125)\n",
    "    info = \"Vaccine \\nBeneficiary Name \\nAge \\nGender \\nVerified ID \\nUHID \\nReference ID \\nVaccination Dates\"\n",
    "    data = \"\"\n",
    "    for i in mob_1_seq:\n",
    "        if mob_1_info[i] != \"\":\n",
    "            data = data + mob_1_info[i] + \"\\n\"\n",
    "        else:\n",
    "            data = data + \"\\n\"\n",
    "    pdf.set_xy(x=18,y=127)\n",
    "    pdf.multi_cell(w=250,h=15,txt=info,align=\"L\",border=0)\n",
    "    pdf.set_xy(x=18,y=127)\n",
    "    pdf.set_font('Arial',size=9)\n",
    "    pdf.set_text_color(0,0,0)\n",
    "    pdf.multi_cell(w=242,h=15,txt=data,align=\"R\",border=0)\n",
    "    return pdf"
   ]
  },
  {
   "cell_type": "code",
   "execution_count": 10,
   "id": "915e1a3d",
   "metadata": {},
   "outputs": [
    {
     "data": {
      "text/plain": [
       "''"
      ]
     },
     "execution_count": 10,
     "metadata": {},
     "output_type": "execute_result"
    }
   ],
   "source": [
    "des = mob_1()\n",
    "des.output('mobile1.pdf','F')\n"
   ]
  },
  {
   "cell_type": "code",
   "execution_count": null,
   "id": "3d71fd84",
   "metadata": {},
   "outputs": [],
   "source": []
  }
 ],
 "metadata": {
  "kernelspec": {
   "display_name": "Python 3",
   "language": "python",
   "name": "python3"
  },
  "language_info": {
   "codemirror_mode": {
    "name": "ipython",
    "version": 3
   },
   "file_extension": ".py",
   "mimetype": "text/x-python",
   "name": "python",
   "nbconvert_exporter": "python",
   "pygments_lexer": "ipython3",
   "version": "3.8.8"
  }
 },
 "nbformat": 4,
 "nbformat_minor": 5
}
