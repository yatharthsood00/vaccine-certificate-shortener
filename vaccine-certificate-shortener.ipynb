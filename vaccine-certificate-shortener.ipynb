{
 "cells": [
  {
   "cell_type": "code",
   "execution_count": 9,
   "id": "9fc6a702",
   "metadata": {},
   "outputs": [],
   "source": [
    "from pdfminer import high_level\n",
    "import PIL"
   ]
  },
  {
   "cell_type": "code",
   "execution_count": 39,
   "id": "73618871",
   "metadata": {},
   "outputs": [],
   "source": [
    "path = r'C:\\Users\\Yatharth\\Documents\\VacCert-Project\\cert.pdf'\n",
    "text = high_level.extract_text(path)\n",
    "print(text)"
   ]
  },
  {
   "cell_type": "code",
   "execution_count": 49,
   "id": "94318201",
   "metadata": {},
   "outputs": [],
   "source": [
    "info = [\"name\", \"age\", \"sex\", \"verif\", \"uhid\", \"refID\", \"vax\", \"dose1\", \"dose2\"]\n",
    "info_dict = {}\n",
    "#print(info)"
   ]
  },
  {
   "cell_type": "code",
   "execution_count": 50,
   "id": "4677d93c",
   "metadata": {},
   "outputs": [
    {
     "name": "stdout",
     "output_type": "stream",
     "text": [
      "['Yatharth Sood', '21', 'Male', 'Aadhaar # XXXXXXXX0468', '61-8613-2248-6680', '93409364295360', 'COVISHIELD', '27 May 2021 (Batch no. 4121Z070)', '21 Aug 2021 (Batch no. 4121MC057)', 'Amar', 'Radha Swami Satsang Solan, Solan,', 'Himachal Pradesh', 'Final Certiﬁcate for COVID-19 VaccinationBeneﬁciary DetailsVaccination DetailsBeneﬁciary Name /Gender /Age /ID Veriﬁed /Unique Health ID (UHID)Beneﬁciary Reference IDVaccine Name /Date of 1st Dose /Date of 2nd Dose /Vaccinated by /Vaccination at /लाभाथ\\x00 का नामउ\\x00\\x00ल\\x00गपहचान प\\x00 स\\x00ा\\x00पतवै\\x00ीन का नामपहली खुराक क\\x00 तारीख\\x00ूसरी खुराक क\\x00 तारीखटीका लगाने वाले का नामटीकाकरण का \\x00ानThis certiﬁcate can be veriﬁed by scanning the QR code at http://verify.cowin.gov.inTogether, India will defeat COVID-19”In case of any adverse events, kindly contact the nearest Public Health Center/Healthcare Worker/District Immunization Oﬃcer/State Helpline No. 1075“दवाई भी और कड़ाई भी।टीकाकरण प\\x00ात \\x00कसी \\x00\\x00तकूल घटना के होने पर नज़दीक\\x00 \\x00ा\\x00 क\\x00\\x00/\\x00ा\\x00 कम\\x00/\\x00जला टीकाकरण अ\\x00धकारी/रा\\x00 ह\\x00\\x00 लाइन 1075 पर स\\x00क\\x00 कर\\x00- \\x00धानमं\\x00ी नर\\x00\\x00 मोदी\\x0c']\n"
     ]
    }
   ],
   "source": [
    "ls = text.split(\"\\n\\n\")\n",
    "#print(ls)"
   ]
  },
  {
   "cell_type": "code",
   "execution_count": 51,
   "id": "bc02b9c6",
   "metadata": {},
   "outputs": [
    {
     "name": "stdout",
     "output_type": "stream",
     "text": [
      "{'name': 'Yatharth Sood', 'age': '21', 'sex': 'Male', 'verif': 'Aadhaar # XXXXXXXX0468', 'uhid': '61-8613-2248-6680', 'refID': '93409364295360', 'vax': 'COVISHIELD', 'dose1': '27 May 2021 (Batch no. 4121Z070)', 'dose2': '21 Aug 2021 (Batch no. 4121MC057)'}\n"
     ]
    }
   ],
   "source": [
    "for i in range(len(info)):\n",
    "    info_dict[info[i]] = ls[i]\n",
    "print(info_dict)"
   ]
  },
  {
   "cell_type": "code",
   "execution_count": null,
   "id": "f0132ec8",
   "metadata": {},
   "outputs": [],
   "source": []
  }
 ],
 "metadata": {
  "kernelspec": {
   "display_name": "Python 3",
   "language": "python",
   "name": "python3"
  },
  "language_info": {
   "codemirror_mode": {
    "name": "ipython",
    "version": 3
   },
   "file_extension": ".py",
   "mimetype": "text/x-python",
   "name": "python",
   "nbconvert_exporter": "python",
   "pygments_lexer": "ipython3",
   "version": "3.8.8"
  }
 },
 "nbformat": 4,
 "nbformat_minor": 5
}
