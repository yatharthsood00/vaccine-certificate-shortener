{
 "cells": [
  {
   "cell_type": "code",
   "execution_count": 1,
   "id": "9fc6a702",
   "metadata": {},
   "outputs": [],
   "source": [
    "from pdfminer import high_level\n",
    "from PIL import Image\n",
    "from dotenv import load_dotenv\n",
    "import fitz\n",
    "import io\n",
    "from fpdf import FPDF"
   ]
  },
  {
   "cell_type": "code",
   "execution_count": 2,
   "id": "cdbb2be5",
   "metadata": {},
   "outputs": [
    {
     "data": {
      "text/plain": [
       "True"
      ]
     },
     "execution_count": 2,
     "metadata": {},
     "output_type": "execute_result"
    }
   ],
   "source": [
    "load_dotenv()"
   ]
  },
  {
   "cell_type": "code",
   "execution_count": 3,
   "id": "73618871",
   "metadata": {},
   "outputs": [],
   "source": [
    "#extract holder details and split them in a list\n",
    "path = r'C:\\Users\\Yatharth\\Documents\\VacCert-Project\\cert.pdf'\n",
    "text = high_level.extract_text(path)\n",
    "ls = text.split(\"\\n\\n\")\n",
    "\n",
    "#dictionary for storing holder information\n",
    "info = [\"name\", \"age\", \"sex\", \"verif\", \"uhid\", \"refID\", \"vax\", \"dose1\", \"dose2\"]\n",
    "info_dict = {}\n",
    "\n",
    "for i in range(len(info)):\n",
    "    info_dict[info[i]] = ls[i]"
   ]
  },
  {
   "cell_type": "code",
   "execution_count": 7,
   "id": "f0132ec8",
   "metadata": {},
   "outputs": [],
   "source": [
    "#Open PDF again, get the QR code and save for use\n",
    "pdf_file = fitz.open(path)\n",
    "page = pdf_file[0]\n",
    "image_list = page.getImageList()\n",
    "xref = image_list[0][0]\n",
    "base_image = pdf_file.extractImage(xref)\n",
    "image_bytes = base_image[\"image\"]\n",
    "image_ext = base_image[\"ext\"]\n",
    "qr = Image.open(io.BytesIO(image_bytes))\n",
    "qr.save(open(f\"qr.{image_ext}\", \"wb\"))"
   ]
  },
  {
   "cell_type": "code",
   "execution_count": 14,
   "id": "847c7a20",
   "metadata": {},
   "outputs": [],
   "source": [
    "qr_link = r'C:\\Users\\Yatharth\\Documents\\VacCert-Project\\vaccine-certificate-shortener\\qr.png'"
   ]
  },
  {
   "cell_type": "code",
   "execution_count": null,
   "id": "6a437f27",
   "metadata": {},
   "outputs": [],
   "source": [
    "class ph_1(FPDF):\n",
    "    def \n",
    "    \n",
    "ph_w = 281.25\n",
    "ph_h = 500.25\n",
    "pdf = FPDF(orientation=\"P\",unit=\"pt\",(ph_w,ph_h))\n",
    "pdf.add_page()\n"
   ]
  },
  {
   "cell_type": "code",
   "execution_count": 16,
   "id": "121261e5",
   "metadata": {},
   "outputs": [
    {
     "data": {
      "text/plain": [
       "''"
      ]
     },
     "execution_count": 16,
     "metadata": {},
     "output_type": "execute_result"
    }
   ],
   "source": [
    "#Creating new certificate with PyFPDF\n",
    "\n",
    "new_pdf = FPDF('P','pt', (281.25,500.25))\n",
    "new_pdf.add_page()\n",
    "new_pdf.set_font('Arial', 'B', 11.2)\n",
    "new_pdf.cell(w=225,h=166,txt=\"Final COVID-19 Vaccine Certificate\",border=0,align='C',)\n",
    "new_pdf.image(qr_link,x=49,y=292,w=184,h=184,type=\"png\")\n",
    "new_pdf.output('mob1.pdf', 'F')\n",
    "#new_pdf.output('mob1.pdf', 'F')"
   ]
  },
  {
   "cell_type": "code",
   "execution_count": 26,
   "id": "3a864db7",
   "metadata": {},
   "outputs": [
    {
     "ename": "ImportError",
     "evalue": "cannot import name 'QR' from 'qrtools' (C:\\Users\\Yatharth\\anaconda3\\lib\\site-packages\\qrtools\\__init__.py)",
     "output_type": "error",
     "traceback": [
      "\u001b[1;31m---------------------------------------------------------------------------\u001b[0m",
      "\u001b[1;31mImportError\u001b[0m                               Traceback (most recent call last)",
      "\u001b[1;32m<ipython-input-26-0e1a68aa0d06>\u001b[0m in \u001b[0;36m<module>\u001b[1;34m\u001b[0m\n\u001b[0;32m      1\u001b[0m \u001b[1;32mimport\u001b[0m \u001b[0mpyqrcode\u001b[0m\u001b[1;33m\u001b[0m\u001b[1;33m\u001b[0m\u001b[0m\n\u001b[1;32m----> 2\u001b[1;33m \u001b[1;32mfrom\u001b[0m \u001b[0mqrtools\u001b[0m \u001b[1;32mimport\u001b[0m \u001b[0mQR\u001b[0m\u001b[1;33m\u001b[0m\u001b[1;33m\u001b[0m\u001b[0m\n\u001b[0m",
      "\u001b[1;31mImportError\u001b[0m: cannot import name 'QR' from 'qrtools' (C:\\Users\\Yatharth\\anaconda3\\lib\\site-packages\\qrtools\\__init__.py)"
     ]
    }
   ],
   "source": [
    "import pyqrcode\n",
    "from qrtools import QR"
   ]
  },
  {
   "cell_type": "code",
   "execution_count": 25,
   "id": "d3040515",
   "metadata": {},
   "outputs": [
    {
     "ename": "NameError",
     "evalue": "name 'QR' is not defined",
     "output_type": "error",
     "traceback": [
      "\u001b[1;31m---------------------------------------------------------------------------\u001b[0m",
      "\u001b[1;31mNameError\u001b[0m                                 Traceback (most recent call last)",
      "\u001b[1;32m<ipython-input-25-d88e53d7b6aa>\u001b[0m in \u001b[0;36m<module>\u001b[1;34m\u001b[0m\n\u001b[1;32m----> 1\u001b[1;33m \u001b[0mco\u001b[0m \u001b[1;33m=\u001b[0m \u001b[0mQR\u001b[0m\u001b[1;33m(\u001b[0m\u001b[1;33m)\u001b[0m\u001b[1;33m\u001b[0m\u001b[1;33m\u001b[0m\u001b[0m\n\u001b[0m\u001b[0;32m      2\u001b[0m \u001b[0mco\u001b[0m\u001b[1;33m.\u001b[0m\u001b[0mdecode\u001b[0m\u001b[1;33m(\u001b[0m\u001b[0mqr\u001b[0m\u001b[1;33m)\u001b[0m\u001b[1;33m\u001b[0m\u001b[1;33m\u001b[0m\u001b[0m\n\u001b[0;32m      3\u001b[0m \u001b[0mprint\u001b[0m\u001b[1;33m(\u001b[0m\u001b[0mco\u001b[0m\u001b[1;33m.\u001b[0m\u001b[0mdata\u001b[0m\u001b[1;33m)\u001b[0m\u001b[1;33m\u001b[0m\u001b[1;33m\u001b[0m\u001b[0m\n",
      "\u001b[1;31mNameError\u001b[0m: name 'QR' is not defined"
     ]
    }
   ],
   "source": [
    "co = QR()\n",
    "co.decode(qr)\n",
    "print(co.data)"
   ]
  },
  {
   "cell_type": "code",
   "execution_count": null,
   "id": "09f6f9a3",
   "metadata": {},
   "outputs": [],
   "source": []
  }
 ],
 "metadata": {
  "kernelspec": {
   "display_name": "Python 3",
   "language": "python",
   "name": "python3"
  },
  "language_info": {
   "codemirror_mode": {
    "name": "ipython",
    "version": 3
   },
   "file_extension": ".py",
   "mimetype": "text/x-python",
   "name": "python",
   "nbconvert_exporter": "python",
   "pygments_lexer": "ipython3",
   "version": "3.8.8"
  }
 },
 "nbformat": 4,
 "nbformat_minor": 5
}
