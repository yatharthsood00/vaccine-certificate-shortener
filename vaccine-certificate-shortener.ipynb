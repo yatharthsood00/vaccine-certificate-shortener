{
 "cells": [
  {
   "cell_type": "code",
   "execution_count": null,
   "id": "9fc6a702",
   "metadata": {},
   "outputs": [],
   "source": [
    "from pdfminer import high_level\n",
    "from PIL import Image\n",
    "import fitz\n",
    "import io\n",
    "from fpdf import FPDF"
   ]
  },
  {
   "cell_type": "code",
   "execution_count": null,
   "id": "73618871",
   "metadata": {},
   "outputs": [],
   "source": [
    "#extract holder details and split them in a list\n",
    "path = r'C:\\Users\\Yatharth\\Documents\\VacCert-Project\\certs\\jv.pdf'\n",
    "text = high_level.extract_text(path)\n",
    "print(text)\n",
    "ls = text.split(\"\\n\\n\")\n",
    "ls = ls[:11]\n",
    "print(ls)\n",
    "#dictionary for storing holder information\n",
    "info = [\"name\", \"age\", \"sex\", \"verif\", \"uhid\", \"refID\", \"vax\", \"dose1\", \"dose2\"]\n",
    "info_dict = {}\n",
    "\n",
    "for i in range(len(info)):\n",
    "    info_dict[info[i]] = ls[i]\n",
    "print(info_dict)\n",
    "if info_dict[\"verif\"].split()[0] != \"Aadhaar\":\n",
    "    info_dict[\"uhid\"] = ''\n",
    "    for i in range(5,len(info)):\n",
    "        info_dict[info[i]] = ls[i-1]\n",
    "print(info_dict)\n"
   ]
  },
  {
   "cell_type": "code",
   "execution_count": null,
   "id": "f0132ec8",
   "metadata": {},
   "outputs": [],
   "source": [
    "#Open PDF again, get the QR code and save for use\n",
    "pdf_file = fitz.open(path)\n",
    "page = pdf_file[0]\n",
    "image_list = page.getImageList()\n",
    "xref = image_list[0][0]\n",
    "base_image = pdf_file.extractImage(xref)\n",
    "image_bytes = base_image[\"image\"]\n",
    "image_ext = base_image[\"ext\"]\n",
    "qr = Image.open(io.BytesIO(image_bytes))\n",
    "qr.save(open(f\"qr.{image_ext}\", \"wb\"))"
   ]
  },
  {
   "cell_type": "code",
   "execution_count": null,
   "id": "928c9b93",
   "metadata": {},
   "outputs": [],
   "source": [
    "qr_link = r'C:\\Users\\Yatharth\\Documents\\VacCert-Project\\vaccine-certificate-shortener\\qr.png'\n",
    "hfw_img = r'C:\\Users\\Yatharth\\Documents\\VacCert-Project\\vaccine-certificate-shortener\\imgfiles\\mohfw.png'"
   ]
  },
  {
   "cell_type": "code",
   "execution_count": null,
   "id": "121261e5",
   "metadata": {},
   "outputs": [],
   "source": [
    "#Creating new certificate with PyFPDF\n",
    "ph_w = 281.25\n",
    "ph_h = 500.25\n",
    "ln_y = 274\n",
    "ln_x1 = 21\n",
    "ln_x2 = 260\n",
    "def mob_1():\n",
    "    pdf = FPDF('P','pt', (ph_w,ph_h))\n",
    "    pdf.add_page()\n",
    "    pdf.set_margins(left=0, top=0, right=0)\n",
    "    pdf.image(hfw_img,x=75,y=24.5,w=132,h=68,type=\"png\")\n",
    "    pdf.set_font('Arial', 'B', 11.2)\n",
    "    pdf.set_text_color(0,0,125)\n",
    "    pdf.cell(w=225,h=166,txt=\"Final COVID-19 Vaccine Certificate\",border=0,align='C',ln=1)\n",
    "    pdf.set_line_width(0.1)\n",
    "    pdf.line(ln_x1,ln_y,ln_x2,ln_y)\n",
    "    pdf.image(qr_link,x=49,y=302,w=184,h=184,type=\"png\")\n",
    "    pdf.set_font('Arial', size=7)\n",
    "    pdf.set_text_color(0,0,0) \n",
    "    pdf.ln(h=96)\n",
    "    pdf.cell(w=282,txt=\"https://verify.cowin.gov.in\",border=0,align='C',link=\"https://verify.cowin.gov.in\",ln=2)\n",
    "    return pdf"
   ]
  },
  {
   "cell_type": "code",
   "execution_count": null,
   "id": "915e1a3d",
   "metadata": {},
   "outputs": [],
   "source": [
    "mob = mob_1()\n",
    "mob.set_font('Arial', 'B',size=9)\n",
    "mob.set_text_color(31,73,125)\n",
    "info = \"Vaccine \\nBeneficiary Name \\nAge \\nGender \\nVerified ID \\nUHID \\nReference ID \\nVaccination Dates\"\n",
    "seq = ['vax','name','age','sex','verif','uhid','refID','dose1','dose2']\n",
    "data = ''\n",
    "for i in seq:\n",
    "    data = data + info_dict[i] + \"\\n\"\n",
    "mob.set_xy(x = 18,y = 127)\n",
    "mob.multi_cell(w=250,h=15,txt=info,align='L',border=0)\n",
    "mob.set_xy(x = 18,y = 127)\n",
    "mob.set_font('Arial',size=9)\n",
    "mob.set_text_color(0,0,0)\n",
    "mob.multi_cell(w=242,h=15,txt=data,align='R',border=0)\n",
    "mob.output('mobile1.pdf', 'F')\n"
   ]
  }
 ],
 "metadata": {
  "kernelspec": {
   "display_name": "Python 3",
   "language": "python",
   "name": "python3"
  },
  "language_info": {
   "codemirror_mode": {
    "name": "ipython",
    "version": 3
   },
   "file_extension": ".py",
   "mimetype": "text/x-python",
   "name": "python",
   "nbconvert_exporter": "python",
   "pygments_lexer": "ipython3",
   "version": "3.8.8"
  }
 },
 "nbformat": 4,
 "nbformat_minor": 5
}
